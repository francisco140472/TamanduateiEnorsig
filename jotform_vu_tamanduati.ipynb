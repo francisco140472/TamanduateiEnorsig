{
  "cells": [
    {
      "cell_type": "markdown",
      "metadata": {
        "id": "view-in-github",
        "colab_type": "text"
      },
      "source": [
        "<a href=\"https://colab.research.google.com/github/francisco140472/TamanduateiEnorsig/blob/main/jotform_vu_tamanduati.ipynb\" target=\"_parent\"><img src=\"https://colab.research.google.com/assets/colab-badge.svg\" alt=\"Open In Colab\"/></a>"
      ]
    },
    {
      "cell_type": "markdown",
      "metadata": {
        "id": "FpevL_rFRUg6"
      },
      "source": []
    },
    {
      "cell_type": "code",
      "execution_count": null,
      "metadata": {
        "colab": {
          "base_uri": "https://localhost:8080/"
        },
        "id": "5m1ppcc1YiB9",
        "outputId": "c43d1d0b-3c39-4d45-8024-43319d81616f"
      },
      "outputs": [
        {
          "output_type": "stream",
          "name": "stdout",
          "text": [
            "Requirement already satisfied: schedule in /usr/local/lib/python3.11/dist-packages (1.2.2)\n",
            "Requirement already satisfied: paramiko in /usr/local/lib/python3.11/dist-packages (3.5.1)\n",
            "Requirement already satisfied: bcrypt>=3.2 in /usr/local/lib/python3.11/dist-packages (from paramiko) (4.3.0)\n",
            "Requirement already satisfied: cryptography>=3.3 in /usr/local/lib/python3.11/dist-packages (from paramiko) (43.0.3)\n",
            "Requirement already satisfied: pynacl>=1.5 in /usr/local/lib/python3.11/dist-packages (from paramiko) (1.5.0)\n",
            "Requirement already satisfied: cffi>=1.12 in /usr/local/lib/python3.11/dist-packages (from cryptography>=3.3->paramiko) (1.17.1)\n",
            "Requirement already satisfied: pycparser in /usr/local/lib/python3.11/dist-packages (from cffi>=1.12->cryptography>=3.3->paramiko) (2.22)\n"
          ]
        }
      ],
      "source": [
        "!pip install schedule\n",
        "!pip install paramiko\n",
        "#!git clone https://github.com/francisco140472/Tamanduatei_Vu_Enorsul.github.io"
      ]
    },
    {
      "cell_type": "code",
      "execution_count": null,
      "metadata": {
        "id": "1eY-DzKkheFd"
      },
      "outputs": [],
      "source": [
        "#%cd Tamanduatei_Vu_Enorsul.github.io\n"
      ]
    },
    {
      "cell_type": "code",
      "execution_count": null,
      "metadata": {
        "id": "9WJD0gfVpf6M"
      },
      "outputs": [],
      "source": [
        "#!cp /content/drive/MyDrive/TAMANDUATEI/JOTFORM_VU_TAMANDUATI.ipynb.\n"
      ]
    },
    {
      "cell_type": "code",
      "execution_count": null,
      "metadata": {
        "colab": {
          "base_uri": "https://localhost:8080/"
        },
        "id": "1-fLeusvbdEc",
        "outputId": "d867ddec-89d9-4165-fc5e-bff73e5974dc"
      },
      "outputs": [
        {
          "output_type": "stream",
          "name": "stdout",
          "text": [
            "Drive already mounted at /content/drive; to attempt to forcibly remount, call drive.mount(\"/content/drive\", force_remount=True).\n"
          ]
        }
      ],
      "source": [
        "from google.colab import drive\n",
        "drive.mount('/content/drive')"
      ]
    },
    {
      "cell_type": "code",
      "execution_count": null,
      "metadata": {
        "id": "obseEc2vhiss"
      },
      "outputs": [],
      "source": []
    },
    {
      "cell_type": "code",
      "execution_count": null,
      "metadata": {
        "id": "oXjItA6Ppzw1"
      },
      "outputs": [],
      "source": [
        "#!git add ."
      ]
    },
    {
      "cell_type": "code",
      "execution_count": null,
      "metadata": {
        "id": "A0dlHx-Vp5iu"
      },
      "outputs": [],
      "source": [
        "#!git commit -m \"Adicionando o código inicial\"\n"
      ]
    },
    {
      "cell_type": "code",
      "execution_count": null,
      "metadata": {
        "id": "u8iieohTqQGj"
      },
      "outputs": [],
      "source": [
        "#!git push origin main\n"
      ]
    },
    {
      "cell_type": "code",
      "execution_count": null,
      "metadata": {
        "id": "qja0dXVZqX5T"
      },
      "outputs": [],
      "source": [
        "#!git config --global user.name \"francisco140472\"\n",
        "#!git config --global user.email \"francisco.assis@enorsul.com.br\"\n"
      ]
    },
    {
      "cell_type": "code",
      "execution_count": null,
      "metadata": {
        "colab": {
          "base_uri": "https://localhost:8080/"
        },
        "id": "RYOv5qPw1hLA",
        "outputId": "cb0eb9cd-43fd-401d-9e61-22b70a8cdcf0"
      },
      "outputs": [
        {
          "output_type": "stream",
          "name": "stdout",
          "text": [
            "Drive already mounted at /content/drive; to attempt to forcibly remount, call drive.mount(\"/content/drive\", force_remount=True).\n",
            "Total de Rede de Esgoto: 628.0\n",
            "Total de Rede de Água: 4825.71\n",
            "A coluna 'NÚCLEO_DE_ATUAÇÃO' não existe em um dos DataFrames.\n",
            "HTML salvo com sucesso no Google Drive: /content/drive/MyDrive/TAMANDUATEI/index_Tamaduatei.html\n"
          ]
        }
      ],
      "source": [
        "import requests\n",
        "import pandas as pd\n",
        "import folium\n",
        "from io import BytesIO\n",
        "import paramiko\n",
        "import time\n",
        "from datetime import datetime\n",
        "\n",
        "\n",
        "# Montar o Google Drive\n",
        "drive.mount('/content/drive')\n",
        "\n",
        "# URL para o primeiro arquivo JotForm\n",
        "url_ocorrencias = \"https://www.jotform.com/excel/242924996615066\"\n",
        "\n",
        "# Fazendo o download do primeiro arquivo Excel\n",
        "response_ocorrencias = requests.get(url_ocorrencias)\n",
        "\n",
        "# Verificando se o download foi bem-sucedido\n",
        "if response_ocorrencias.status_code == 200:\n",
        "    # Lê o conteúdo do Excel diretamente no pandas\n",
        "    df = pd.read_excel(BytesIO(response_ocorrencias.content))\n",
        "else:\n",
        "    print(f\"Error ao baixar ocorrências: {response_ocorrencias.status_code}\")\n",
        "\n",
        "# Remove registros onde NÚCLEO_DE_ATUAÇÃO é NaN\n",
        "df = df.dropna(subset=['NÚCLEO_DE_ATUAÇÃO'])\n",
        "\n",
        "# Contagem de registros não nulos em cada coluna\n",
        "total_ocorrencias = df['OCORRÊNCIA DE CAMPO CADASTRO'].notna().sum()\n",
        "soma_caixa_uma = df['OCORRÊNCIA DE CAMPO CAIXA UMA'].notna().sum()\n",
        "total_quantidade_instalacao = df['OCORRÊNCIA DE CAMPO LIGAÇÃO'].notna().sum()\n",
        "\n",
        "# URL para o segundo arquivo JotForm com dados de redes\n",
        "url_area_atuacao = \"https://www.jotform.com/excel/243393249284060\"\n",
        "\n",
        "# Fazendo o download do segundo arquivo Excel\n",
        "response_area = requests.get(url_area_atuacao)\n",
        "\n",
        "# Verificando se o download foi bem-sucedido\n",
        "if response_area.status_code == 200:\n",
        "    # Lê o conteúdo do Excel diretamente no pandas\n",
        "    df_area = pd.read_excel(BytesIO(response_area.content))\n",
        "else:\n",
        "    print(f\"Error ao baixar área de atuação: {response_area.status_code}\")\n",
        "\n",
        "# Calcula o total de rede de água e esgoto se as colunas existirem\n",
        "\n",
        "###################\n",
        "# Substitua vírgulas por pontos antes de converter para numérico\n",
        "# Certifique-se de que a coluna é string antes de substituir\n",
        "df_area['TOTAL DE REDE ESGOTO 200'] = df_area['TOTAL DE REDE ESGOTO 200'].astype(str).str.replace(',', '.', regex=False)\n",
        "df_area['TOTAL DE REDE 110 ÁGUA'] = df_area['TOTAL DE REDE 110 ÁGUA'].astype(str).str.replace(',', '.', regex=False)\n",
        "\n",
        "# Converta para numérico após a substituição\n",
        "df_area['TOTAL DE REDE ESGOTO 200'] = pd.to_numeric(df_area['TOTAL DE REDE ESGOTO 200'], errors='coerce')\n",
        "df_area['TOTAL DE REDE 110 ÁGUA'] = pd.to_numeric(df_area['TOTAL DE REDE 110 ÁGUA'], errors='coerce')\n",
        "\n",
        "# Soma dos valores corrigidos\n",
        "total_rede_esgoto = df_area['TOTAL DE REDE ESGOTO 200'].sum()\n",
        "total_rede_agua = df_area['TOTAL DE REDE 110 ÁGUA'].sum()\n",
        "\n",
        "print(f\"Total de Rede de Esgoto: {total_rede_esgoto}\")\n",
        "print(f\"Total de Rede de Água: {total_rede_agua}\")\n",
        "\n",
        "##########################################################\n",
        "\n",
        "##########################################################\n",
        "## Renomeie 'AREA_DE_ATUACAO' se necessário\n",
        "if 'AREA_DE_ATUACAO' in df_area.columns:\n",
        "    df_area = df_area.rename(columns={'AREA_DE_ATUACAO': 'NÚCLEO_DE_ATUAÇÃO'})\n",
        "\n",
        "# Verifique se a coluna 'NÚCLEO_DE_ATUAÇÃO' existe em ambos os DataFrames\n",
        "if 'NÚCLEO_DE_ATUAÇÃO' in df.columns and 'NÚCLEO_DE_ATUAÇÃO' in df_area.columns:\n",
        "    # Garanta que os tipos de dados sejam compatíveis\n",
        "    df['NÚCLEO_DE_ATUAÇÃO'] = df['NÚCLEO_DE_ATUAÇÃO'].astype(str)\n",
        "    df_area['NÚCLEO_DE_ATUAÇÃO'] = df_area['NÚCLEO_DE_ATUAÇÃO'].astype(str)\n",
        "\n",
        "    # Execute o merge\n",
        "    df = df.merge(df_area[['NÚCLEO_DE_ATUAÇÃO', 'REDE ESGOTO 200', 'REDE 110 ÁGUA']],\n",
        "                  on='NÚCLEO_DE_ATUAÇÃO', how='left')\n",
        "else:\n",
        "    print(\"A coluna 'NÚCLEO_DE_ATUAÇÃO' não existe em um dos DataFrames.\")\n",
        "\n",
        "\n",
        "# Agrupamento por NÚCLEO_DE_ATUAÇÃO para marcadores\n",
        "localizacoes_por_bairro = {}\n",
        "for bairro in df['NÚCLEO_DE_ATUAÇÃO'].unique():\n",
        "    dados_bairro = df[df['NÚCLEO_DE_ATUAÇÃO'] == bairro]\n",
        "    localizacoes = []\n",
        "    for index, row in dados_bairro.iterrows():\n",
        "        if pd.notna(row['Geolocation']) and ',' in row['Geolocation']:\n",
        "            try:\n",
        "                lat, lng = map(float, row['Geolocation'].split(','))\n",
        "                foto_url = row.get('FOTO_DO_IMOVEL', 'https://via.placeholder.com/150')\n",
        "                localizacoes.append((lat, lng, row['BAIRRO'],\n",
        "                                     row.get('FUNCIONÁRIO CADASTRO', 'Não informado'),\n",
        "                                     row.get('OCORRÊNCIA DE CAMPO CADASTRO', 'Não informada'),\n",
        "                                     row.get('IDENTIFICAÇÃO ÚNICA', 'Não informada'),\n",
        "                                     foto_url))\n",
        "            except ValueError:\n",
        "                print(f\"Erro ao converter coordenadas: {row['Geolocation']}\")\n",
        "    localizacoes_por_bairro[bairro] = localizacoes\n",
        "\n",
        "# Configurações de cores e ícones para bairros\n",
        "cores_icones = ['red', 'blue', 'green', 'purple', 'orange', 'darkred', 'lightred', 'beige', 'darkblue', 'darkgreen']\n",
        "icons = ['info-sign', 'cloud', 'leaf', 'star', 'ok', 'bookmark', 'cutlery', 'coffee', 'road', 'home']\n",
        "cores_bairro = {bairro: (cores_icones[i % len(cores_icones)], icons[i % len(icons)]) for i, bairro in enumerate(localizacoes_por_bairro)}\n",
        "\n",
        "# Cria o mapa\n",
        "m = folium.Map(location=[-23.55, -46.63], zoom_start=12)\n",
        "\n",
        "# Adiciona título ao mapa\n",
        "title_html = '''\n",
        "    <h3 align=\"center\" style=\"font-size:20px\"><b>VU - TAMANDUATEI - ENORSIG</b></h3>\n",
        "'''\n",
        "m.get_root().html.add_child(folium.Element(title_html))\n",
        "\n",
        "# Tabela de resumo de ocorrências e redes\n",
        "tabela_resumo_html = '''\n",
        "<div style=\"position: fixed;\n",
        "            top: 80px; left: 50px; width: 300px;\n",
        "            background-color: white;\n",
        "            padding: 10px;\n",
        "            border: 2px solid grey;\n",
        "            z-index: 9999;\">\n",
        "    <h4>Resumo de Ocorrências e Redes</h4>\n",
        "    <table style=\"width: 100%; border-collapse: collapse; text-align: center;\">\n",
        "        <tr>\n",
        "            <th>Ocorrência</th>\n",
        "            <th>Caixa Uma</th>\n",
        "            <th>Ligações</th>\n",
        "            <th>Rede Água</th>\n",
        "            <th>Rede Esgoto</th>\n",
        "        </tr>\n",
        "        <tr>\n",
        "            <td>{total_ocorrencias}</td>\n",
        "            <td>{soma_caixa_uma}</td>\n",
        "            <td>{total_quantidade_instalacao}</td>\n",
        "            <td>{total_rede_agua}</td>\n",
        "            <td>{total_rede_esgoto}</td>\n",
        "        </tr>\n",
        "    </table>\n",
        "</div>\n",
        "'''\n",
        "m.get_root().html.add_child(folium.Element(tabela_resumo_html.format(\n",
        "    total_ocorrencias=total_ocorrencias,\n",
        "    soma_caixa_uma=soma_caixa_uma,\n",
        "    total_quantidade_instalacao=total_quantidade_instalacao,\n",
        "    total_rede_agua=total_rede_agua,\n",
        "    total_rede_esgoto=total_rede_esgoto\n",
        ")))\n",
        "########################################################\n",
        "# Adicionar contagem por tipo de \"OCORRÊNCIA DE CAMPO CADASTRO\"\n",
        "total_por_tipo = df['OCORRÊNCIA DE CAMPO CADASTRO'].value_counts()\n",
        "\n",
        "# Adicionar contagem de cadastro por dia, mantendo apenas a última data\n",
        "df['DATA CADASTRO'] = pd.to_datetime(df['DATA CADASTRO'], errors='coerce')\n",
        "total_por_dia = df.groupby(df['DATA CADASTRO'].dt.date).size()\n",
        "ultima_data = total_por_dia.index[-1] if not total_por_dia.empty else None\n",
        "total_ultima_data = total_por_dia[ultima_data] if ultima_data else 0\n",
        "\n",
        "# Tabela HTML com total por tipo e apenas a última data, abaixo da primeira tabela\n",
        "tabela_tipo_ultima_data_html = '''\n",
        "<div style=\"position: fixed;\n",
        "            top: 320px; left: 50px; width: 300px;\n",
        "            background-color: white;\n",
        "            padding: 10px;\n",
        "            border: 2px solid grey;\n",
        "            z-index: 9999;\">\n",
        "    <h4>Resumo por Tipo</h4>\n",
        "    <table style=\"width: 100%; border-collapse: collapse; text-align: center;\">\n",
        "        <tr>\n",
        "            <th style=\"border: 1px solid black; padding: 5px; text-align: center;\">Tipo de Ocorrência</th>\n",
        "            <th style=\"border: 1px solid black; padding: 5px; text-align: center;\">Total</th>\n",
        "        </tr>''' + ''.join([f'''\n",
        "        <tr>\n",
        "            <td style=\"border: 1px solid black; padding: 5px;\">{tipo}</td>\n",
        "            <td style=\"border: 1px solid black; padding: 5px;\">{total}</td>\n",
        "        </tr>''' for tipo, total in total_por_tipo.items()]) + '''\n",
        "    </table>\n",
        "\n",
        "\n",
        "\n",
        "\n",
        "    <h4>Última Data</h4>\n",
        "    <table style=\"width: 100%; border-collapse: collapse; text-align: center;\">\n",
        "        <tr>\n",
        "            <th style=\"border: 1px solid black; padding: 5px; text-align: center;\">Data</th>\n",
        "            <th style=\"border: 1px solid black; padding: 5px; text-align: center;\">Total</th>\n",
        "        </tr>\n",
        "        <tr>\n",
        "            <td style=\"border: 1px solid black; padding: 5px;\">{ultima_data}</td>\n",
        "            <td style=\"border: 1px solid black; padding: 5px;\">{total_ultima_data}</td>\n",
        "        </tr>\n",
        "    </table>\n",
        "\n",
        "</div>\n",
        "'''\n",
        "\n",
        "# Adiciona a tabela de tipo e última data ao mapa\n",
        "m.get_root().html.add_child(folium.Element(tabela_tipo_ultima_data_html.format(\n",
        "    ultima_data=ultima_data.strftime('%Y-%m-%d') if ultima_data else 'N/A',\n",
        "    total_ultima_data=total_ultima_data\n",
        ")))\n",
        "\n",
        "\n",
        "#################################3\n",
        "\n",
        "# Adicionar marcadores para cada núcleo e camada\n",
        "for bairro, localizacoes in localizacoes_por_bairro.items():\n",
        "    cor, icone = cores_bairro[bairro]\n",
        "    feature_group = folium.FeatureGroup(name=bairro)\n",
        "    for lat, lng, bairro, funcionario, cadastro, identificacao, foto_url in localizacoes:\n",
        "        popup_html = f\"\"\"\n",
        "            <div>\n",
        "                <h4>{bairro}</h4>\n",
        "                <p><b>Funcionário:</b> {funcionario}</p>\n",
        "                <p><b>Cadastro:</b> {cadastro}</p>\n",
        "                <p><b>Identificação Única:</b> {identificacao}</p>\n",
        "                <img src=\"{foto_url}\" alt=\"Foto do Imóvel\" width=\"100%\">\n",
        "            </div>\n",
        "        \"\"\"\n",
        "        folium.Marker(\n",
        "            location=[lat, lng],\n",
        "            popup=folium.Popup(popup_html, max_width=300),\n",
        "            icon=folium.Icon(color=cor, icon=icone)\n",
        "        ).add_to(feature_group)\n",
        "    feature_group.add_to(m)\n",
        "\n",
        "# Controle de camadas\n",
        "folium.LayerControl().add_to(m)\n",
        "\n",
        "# Nome do arquivo que será salvo\n",
        "output_path = '/content/drive/MyDrive/TAMANDUATEI/index_Tamaduatei.html'\n",
        "\n",
        "# Salva o mapa em HTML no Google Drive\n",
        "m.save(output_path)\n",
        "\n",
        "print(f\"HTML salvo com sucesso no Google Drive: {output_path}\")\n",
        "\n",
        "#########################################################################################\n",
        "# Move o arquivo HTML gerado para o diretório do repositório\n",
        "#!mv Tamanduatei_Vu_Enorsul.github.io/JOTFORM_VU_TAMANDUATI.ipynb\n",
        "\n",
        "# Acesse o diretório do repositório\n",
        "#%cd Tamanduatei_Vu_Enorsul.github.io\n",
        "\n",
        "# Adicione o arquivo gerado ao controle de versão\n",
        "#!git add index.html\n",
        "\n",
        "# Commit com uma mensagem personalizada\n",
        "#!git commit -m \"Atualização automática do arquivo index.html\"\n",
        "\n",
        "# Push para o repositório remoto\n",
        "#!git push origin main  # Substitua \"main\" pelo nome da branch principal, se necessário\n"
      ]
    },
    {
      "cell_type": "code",
      "execution_count": null,
      "metadata": {
        "colab": {
          "background_save": true,
          "base_uri": "https://localhost:8080/"
        },
        "id": "z4E4GdjbTosW",
        "outputId": "b7c454ce-80d9-4b3e-b427-29eb7a8fe661"
      },
      "outputs": [
        {
          "output_type": "stream",
          "name": "stdout",
          "text": [
            "Upload concluído!\n",
            "Aguardando 30 minutos para a próxima atualização...\n"
          ]
        }
      ],
      "source": [
        "import time\n",
        "from ftplib import FTP\n",
        "\n",
        "# Configurações do FTP\n",
        "FTP_HOST = \"200.98.80.97\"\n",
        "FTP_USER = \"ftp_jot\"\n",
        "FTP_PASS = \"SantoAndre2020\"\n",
        "ARQUIVO_LOCAL = \"/content/drive/MyDrive/TAMANDUATEI/index_Tamaduatei.html\"  # Arquivo no Google Drive\n",
        "DIRETORIO_REMOTO = \"Colab\"  # Pasta do FTP onde o arquivo será salvo\n",
        "\n",
        "# Função para enviar o arquivo\n",
        "def upload_ftp():\n",
        "    try:\n",
        "        ftp = FTP(FTP_HOST)\n",
        "        ftp.login(FTP_USER, FTP_PASS)\n",
        "        ftp.cwd(DIRETORIO_REMOTO)  # Entrar na pasta correta do servidor FTP\n",
        "\n",
        "        # Abrir o arquivo local e enviá-lo\n",
        "        with open(ARQUIVO_LOCAL, \"rb\") as file:\n",
        "            ftp.storbinary(\"STOR index_Tamaduatei.html\", file)\n",
        "\n",
        "        ftp.quit()\n",
        "        print(\"Upload concluído!\")\n",
        "    except Exception as e:\n",
        "        print(f\"Erro no upload: {e}\")\n",
        "\n",
        "# Loop para atualizar a cada 30 minutos (1800 segundos)\n",
        "while True:\n",
        "    upload_ftp()\n",
        "    print(\"Aguardando 30 minutos para a próxima atualização...\")\n",
        "    time.sleep(1800)  # Espera 30 minutos antes do próximo envio\n"
      ]
    }
  ],
  "metadata": {
    "colab": {
      "provenance": [],
      "mount_file_id": "1VVCQVYcsrSVaUeepssUvi4VxD_5726sx",
      "authorship_tag": "ABX9TyPxSk+dgSE7qnHO7uG51Yzz",
      "include_colab_link": true
    },
    "kernelspec": {
      "display_name": "Python 3",
      "name": "python3"
    },
    "language_info": {
      "name": "python"
    }
  },
  "nbformat": 4,
  "nbformat_minor": 0
}